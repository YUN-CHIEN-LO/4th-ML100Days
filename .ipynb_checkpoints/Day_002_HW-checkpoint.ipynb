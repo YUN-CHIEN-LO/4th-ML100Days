{
 "cells": [
  {
   "cell_type": "markdown",
   "metadata": {},
   "source": [
    "# 作業問題：思考題_請找出一個你認為機器學習可以發光發熱的領域並闡述原因?\n",
    "***\n",
    "### 醫學影像辨識\n",
    "有些診斷結果很難快速辨識，或是會有人為誤差，機器學習可以做一個很好的輔助"
   ]
  }
 ],
 "metadata": {
  "kernelspec": {
   "display_name": "Python 3",
   "language": "python",
   "name": "python3"
  },
  "language_info": {
   "codemirror_mode": {
    "name": "ipython",
    "version": 3
   },
   "file_extension": ".py",
   "mimetype": "text/x-python",
   "name": "python",
   "nbconvert_exporter": "python",
   "pygments_lexer": "ipython3",
   "version": "3.7.4"
  }
 },
 "nbformat": 4,
 "nbformat_minor": 2
}
