{
 "cells": [
  {
   "cell_type": "markdown",
   "metadata": {},
   "source": [
    "# Toward Human-Centered Design for ML Frameworks\n",
    "***\n",
    "#### 目標\n",
    "使ML更容易應用與理解，尤其對於前端開發工程師。\n",
    "\n",
    "#### 方法\n",
    "* Pre-made Models with Explicit Support for Modification\n",
    "* Synthesize ML Best Practices into Just-in-Time Hints\n",
    "* Support for Learning-by-Doing\n",
    "\n",
    "#### 資料來源 \n",
    "https://ai.googleblog.com/"
   ]
  }
 ],
 "metadata": {
  "kernelspec": {
   "display_name": "Python 3",
   "language": "python",
   "name": "python3"
  },
  "language_info": {
   "codemirror_mode": {
    "name": "ipython",
    "version": 3
   },
   "file_extension": ".py",
   "mimetype": "text/x-python",
   "name": "python",
   "nbconvert_exporter": "python",
   "pygments_lexer": "ipython3",
   "version": "3.7.4"
  }
 },
 "nbformat": 4,
 "nbformat_minor": 2
}
